{
 "cells": [
  {
   "cell_type": "markdown",
   "id": "e7ca7add",
   "metadata": {},
   "source": [
    "# AISG Technical Assessment"
   ]
  },
  {
   "cell_type": "markdown",
   "id": "59766a88",
   "metadata": {},
   "source": [
    "## Programming Question"
   ]
  },
  {
   "cell_type": "code",
   "execution_count": 241,
   "id": "faf59ee5",
   "metadata": {},
   "outputs": [
    {
     "name": "stdout",
     "output_type": "stream",
     "text": [
      "The `englishify` func is working fine\n"
     ]
    }
   ],
   "source": [
    "def englishify(number):\n",
    "\n",
    "    # First, convert number from int to str\n",
    "    number = str(number)\n",
    "    \n",
    "    # Define mapping dictionaries\n",
    "    ones = {'0': 'Zero', '1': 'One', '2': 'Two', '3': 'Three', '4': 'Four', '5': 'Five', '6': 'Six', '7': 'Seven', '8': 'Eight', '9': 'Nine'}\n",
    "    teens = {'10': 'Ten', '11': 'Eleven', '12': 'Twelve', '13': 'Thirteen', '14': 'Fourteen', \n",
    "             '15': 'Fifteen', '16': 'Sixteen', '17': 'Seventeen', '18': 'Eighteen', '19': 'Nineteen'}\n",
    "    tens = {'2': 'Twenty', '3': 'Thirty', '4': 'Forty', '5': 'Fifty', \n",
    "            '6': 'Sixty', '7': 'Seventy', '8': 'Eighty', '9': 'Ninety'}\n",
    "\n",
    "    # Split the input number into two parts\n",
    "    number_1 = number[:-3] + '000' # Thousands\n",
    "    number_2 = number[-3:] # Hundreds\n",
    "    \n",
    "    # Convert number_1 into English words\n",
    "    number_1_reversed = [char for char in number_1[::-1]]\n",
    "    number_1_string = []\n",
    "    \n",
    "    for idx, digit in enumerate(number_1_reversed[3:]):\n",
    "\n",
    "        if idx == 0:\n",
    "            number_1_string.append(ones.get(digit))\n",
    "\n",
    "        if idx == 1:\n",
    "            if number_1_reversed[idx+3-1] == '0':\n",
    "                number_1_string.pop()\n",
    "\n",
    "            if digit == '1':\n",
    "                number_1_string.pop()\n",
    "                number_1_string.append(teens.get(digit+number_1_reversed[idx+3-1]))\n",
    "\n",
    "            number_1_string.append(tens.get(digit))\n",
    "            \n",
    "        if idx == 2:\n",
    "            if digit != '0':\n",
    "                number_1_string.append('Hundred')\n",
    "                number_1_string.append(ones.get(digit))\n",
    "\n",
    "    if number_1 != '000':\n",
    "        number_1_string.insert(0, 'Thousand')\n",
    "\n",
    "    number_1_string = [word for word in number_1_string if word]\n",
    "\n",
    "    # Convert number_2 into English words\n",
    "    number_2_reversed = [char for char in number_2[::-1]]\n",
    "    number_2_string = []\n",
    "    \n",
    "    for idx, digit in enumerate(number_2_reversed):\n",
    "        if idx == 0:\n",
    "            number_2_string.append(ones.get(digit))\n",
    "\n",
    "        if idx == 1:\n",
    "            if number_2_reversed[idx-1] == '0':\n",
    "                number_2_string.pop()\n",
    "\n",
    "            if digit == '1':\n",
    "                number_2_string.pop()\n",
    "                number_2_string.append(teens.get(digit+number_2_reversed[idx-1]))\n",
    "\n",
    "            number_2_string.append(tens.get(digit))\n",
    "        if idx == 2:\n",
    "            if digit != '0':\n",
    "                number_2_string.append('Hundred')\n",
    "                number_2_string.append(ones.get(digit))\n",
    "\n",
    "    number_2_string = [word for word in number_2_string if word] # Remove None\n",
    "    \n",
    "    # Then, combine both\n",
    "    full_string = ' '.join(number_1_string[::-1]) + \" \" + ' '.join(number_2_string[::-1])\n",
    "\n",
    "    # Adding commas and 'And' at appropriate locations\n",
    "    split_full_string = full_string.split()\n",
    "    if ('Hundred' in full_string) & ('Thousand' in full_string):\n",
    "        idx_thousand = split_full_string.index('Thousand')\n",
    "        if 'Hundred' in split_full_string[idx_thousand+1:]:\n",
    "            split_full_string.insert(idx_thousand+1, ',')\n",
    "        else:\n",
    "            if idx_thousand != len(split_full_string)-1:\n",
    "                split_full_string.insert(idx_thousand+1, 'And')\n",
    "\n",
    "    elif ('Hundred' not in full_string) & ('Thousand' in full_string):\n",
    "        split_full_string.insert(split_full_string.index('Thousand')+1, 'And')\n",
    "\n",
    "    new_split_full_string = []            \n",
    "    for idx, word in enumerate(split_full_string):\n",
    "        new_split_full_string.append(word)\n",
    "        if word == 'Hundred':\n",
    "            try:\n",
    "                if split_full_string[idx+1] != 'Thousand':\n",
    "                    new_split_full_string.append('And')\n",
    "            except IndexError:\n",
    "                pass\n",
    "\n",
    "    correct_string = \" \".join(new_split_full_string) \n",
    "    correct_string = correct_string.replace(\" ,\", \",\")\n",
    "\n",
    "    return correct_string\n",
    "\n",
    "if __name__ == '__main__':\n",
    "    \n",
    "    assert englishify(1) == 'One'\n",
    "    assert englishify(22) == 'Twenty Two'\n",
    "    assert englishify(222) == 'Two Hundred And Twenty Two'\n",
    "    assert englishify(202) == 'Two Hundred And Two'\n",
    "    assert englishify(1234) == 'One Thousand, Two Hundred And Thirty Four'\n",
    "    assert englishify(4040) == 'Four Thousand And Forty'\n",
    "    assert englishify(31337) == 'Thirty One Thousand, Three Hundred And Thirty Seven'\n",
    "    assert englishify(55227) == 'Fifty Five Thousand, Two Hundred And Twenty Seven'\n",
    "    assert englishify(100080) == 'One Hundred Thousand And Eighty'\n",
    "    assert englishify(500000) == 'Five Hundred Thousand'\n",
    "    assert englishify(609018) == 'Six Hundred And Nine Thousand And Eighteen'\n",
    "    print('The `englishify` func is working fine')"
   ]
  },
  {
   "cell_type": "code",
   "execution_count": 246,
   "id": "db3c40ed",
   "metadata": {},
   "outputs": [
    {
     "name": "stdout",
     "output_type": "stream",
     "text": [
      "1: One\n",
      "22: Twenty Two\n",
      "222: Two Hundred And Twenty Two\n",
      "202: Two Hundred And Two\n",
      "1234: One Thousand, Two Hundred And Thirty Four\n",
      "4040: Four Thousand And Forty\n",
      "31337: Thirty One Thousand, Three Hundred And Thirty Seven\n",
      "55227: Fifty Five Thousand, Two Hundred And Twenty Seven\n",
      "100080: One Hundred Thousand And Eighty\n",
      "500000: Five Hundred Thousand\n",
      "609018: Six Hundred And Nine Thousand And Eighteen\n"
     ]
    }
   ],
   "source": [
    "with open('input.txt') as f:\n",
    "    lines = [num.strip() for num in f.readlines()]\n",
    "\n",
    "for num in lines:\n",
    "    print(f'{num}: {englishify(num)}')"
   ]
  }
 ],
 "metadata": {
  "kernelspec": {
   "display_name": "Python 3",
   "language": "python",
   "name": "python3"
  },
  "language_info": {
   "codemirror_mode": {
    "name": "ipython",
    "version": 3
   },
   "file_extension": ".py",
   "mimetype": "text/x-python",
   "name": "python",
   "nbconvert_exporter": "python",
   "pygments_lexer": "ipython3",
   "version": "3.8.8"
  }
 },
 "nbformat": 4,
 "nbformat_minor": 5
}
